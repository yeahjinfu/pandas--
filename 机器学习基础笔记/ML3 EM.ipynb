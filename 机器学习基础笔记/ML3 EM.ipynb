{
 "cells": [
  {
   "cell_type": "markdown",
   "metadata": {},
   "source": [
    "[EM详解](https://mp.weixin.qq.com/s/5V4LgKDNID4DhBE0ky6fRQ)"
   ]
  },
  {
   "cell_type": "markdown",
   "metadata": {},
   "source": [
    "# 理论知识补充"
   ]
  },
  {
   "cell_type": "markdown",
   "metadata": {},
   "source": [
    "\\begin{align*}\n",
    "L(\\theta)&=\\sum_{i=1}^Nlog P(x_i;\\theta) \\\\\n",
    "&=\\sum_{i=1}^Nlog \\sum\\limits_{z_i}P(x_i,z_i;\\theta) \\\\\n",
    "&=\\sum_{i=1}^Nlog \\sum\\limits_{z_i}Q_i(z_i)\\frac{P(x_i,z_i;\\theta)}{Q_i(z_i)}\\\\\n",
    "&\\geq \\sum_{i=1}^N\\sum\\limits_{z_i}Q_i(z_i)log\\frac{P(x_i,z_i;\\theta)}{Q_i(z_i)}\\\\\n",
    "\\end{align*}"
   ]
  },
  {
   "cell_type": "markdown",
   "metadata": {},
   "source": [
    "其中$Q_i(z_i)$是样本$x_i$的隐变量的条件概率分布，可取\n",
    "$$Q_i(z_i)=\\frac{P(x_i,z_i;\\theta)}{\\sum\\limits_{z_i}P(x_i,z_i;\\theta)}=P(z_i|x_i;\\theta)$$\n",
    "\n",
    "此时Jensen不等式取到等号，在参数的当前迭代点下下界函数与目标函数值相等。"
   ]
  },
  {
   "cell_type": "markdown",
   "metadata": {},
   "source": [
    "**E步，**\n",
    "\n",
    "基于当前估计值\n",
    "$\\theta$,计算在x给定条件下z的条件概率：\n",
    "\n",
    "$$Q_i(z_i)=P(z_i|x_i;\\theta)$$\n",
    "\n",
    "根据以上条件概率构造目标函数的下界$\\sum\\limits_{i=1}^N\\sum\\limits_{z_i}Q_i(z_i)log\\cfrac{P(x_i,z_i;\\theta)}{Q_i(z_i)}$,y也是对z的数学期望，这也是“E”的含义\n"
   ]
  },
  {
   "cell_type": "markdown",
   "metadata": {},
   "source": [
    "**M步，**\n",
    "\n",
    "对目标函数的下界求导更新$\\theta$"
   ]
  },
  {
   "cell_type": "markdown",
   "metadata": {},
   "source": [
    "## python实现混合高斯模型"
   ]
  },
  {
   "cell_type": "markdown",
   "metadata": {},
   "source": [
    "$$p(x)=\\sum_{j=1}^kw_jN(x;\\mu_j,\\sigma_j)$$"
   ]
  },
  {
   "cell_type": "code",
   "execution_count": 1,
   "metadata": {},
   "outputs": [],
   "source": [
    "import pandas as pd\n",
    "import numpy as np"
   ]
  },
  {
   "cell_type": "code",
   "execution_count": 33,
   "metadata": {},
   "outputs": [],
   "source": [
    "def Gauss(x,mu,sigma):\n",
    "    res = 1/(np.sqrt(2*np.pi)*sigma)*np.exp(-(x-mu)**2/(2*sigma**2))\n",
    "    return res\n",
    "def E_step(data,mu1,mu2,sigma1,sigma2,a1,a2):\n",
    "    #求Z_i的条件概率\n",
    "    guass1 =  a1*Gauss(data,mu1,sigma1)\n",
    "    guass2 = a2*Gauss(data,mu2,sigma2)\n",
    "    sum_ = guass1+guass2\n",
    "    guass1 /= sum_\n",
    "    guass2 /= sum_\n",
    "    return guass1,guass2\n",
    "def M_step(data,guass1,guass2):\n",
    "    mu1 = np.dot(data,guass1)/guass1.sum()\n",
    "    mu2 = np.dot(data,guass2)/guass2.sum()\n",
    "    \n",
    "    sigma1 = np.sqrt(np.dot(guass1,(data-mu1)**2)/guass1.sum())\n",
    "    sigma2 = np.sqrt(np.dot(guass2,(data-mu2)**2)/guass2.sum())\n",
    "    \n",
    "    a1 = guass1.sum()/len(data)\n",
    "    a2 = guass2.sum()/len(data)\n",
    "    return mu1,mu2,sigma1,sigma2,a1,a2\n",
    "def EM(data,n_iter = 500):\n",
    "    mu1,mu2,sigma1,sigma2,a1,a2 = 0,1,1,1,0.5,0.5\n",
    "    for _ in range(n_iter):\n",
    "        guass1,guass2 = E_step(data,mu1,mu2,sigma1,sigma2,a1,a2)\n",
    "        mu1,mu2,sigma1,sigma2,a1,a2 = M_step(data,guass1,guass2)\n",
    "    return mu1,mu2,sigma1,sigma2,a1,a2"
   ]
  },
  {
   "cell_type": "code",
   "execution_count": 34,
   "metadata": {},
   "outputs": [],
   "source": [
    "data0 = np.random.normal(3,0.7,800)\n",
    "data1 = np.random.normal(1,0.2,200)\n",
    "data = np.concatenate([data0,data1])"
   ]
  },
  {
   "cell_type": "code",
   "execution_count": 35,
   "metadata": {},
   "outputs": [
    {
     "data": {
      "text/plain": [
       "(1.0033308055682053,\n",
       " 2.9685187825986836,\n",
       " 0.19809787916437396,\n",
       " 0.6851277137176831,\n",
       " 0.20173358172387174,\n",
       " 0.7982664182761282)"
      ]
     },
     "execution_count": 35,
     "metadata": {},
     "output_type": "execute_result"
    }
   ],
   "source": [
    "EM(data)"
   ]
  },
  {
   "cell_type": "code",
   "execution_count": null,
   "metadata": {},
   "outputs": [],
   "source": []
  }
 ],
 "metadata": {
  "kernelspec": {
   "display_name": "Python 3",
   "language": "python",
   "name": "python3"
  },
  "language_info": {
   "codemirror_mode": {
    "name": "ipython",
    "version": 3
   },
   "file_extension": ".py",
   "mimetype": "text/x-python",
   "name": "python",
   "nbconvert_exporter": "python",
   "pygments_lexer": "ipython3",
   "version": "3.6.5"
  },
  "toc": {
   "base_numbering": 1,
   "nav_menu": {},
   "number_sections": true,
   "sideBar": true,
   "skip_h1_title": false,
   "title_cell": "Table of Contents",
   "title_sidebar": "Contents",
   "toc_cell": false,
   "toc_position": {},
   "toc_section_display": true,
   "toc_window_display": false
  }
 },
 "nbformat": 4,
 "nbformat_minor": 2
}
