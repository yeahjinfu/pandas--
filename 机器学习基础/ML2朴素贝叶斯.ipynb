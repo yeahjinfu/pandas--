{
 "cells": [
  {
   "cell_type": "markdown",
   "metadata": {},
   "source": [
    "# 理论知识查漏补缺"
   ]
  },
  {
   "cell_type": "markdown",
   "metadata": {},
   "source": [
    "## 判别模型与生成模型"
   ]
  },
  {
   "cell_type": "markdown",
   "metadata": {},
   "source": [
    "- 判别模型：直接对$P(y|x)$建模\n",
    "- 生成模型：判断$P(y=0|x)$和$P(y=1|x)$谁更大一点，借助贝叶斯公式，对$P(x,y)$联合概率进行建模"
   ]
  },
  {
   "cell_type": "markdown",
   "metadata": {},
   "source": [
    "## 高斯判别分析"
   ]
  },
  {
   "cell_type": "markdown",
   "metadata": {},
   "source": [
    "## 朴素贝叶斯"
   ]
  },
  {
   "cell_type": "markdown",
   "metadata": {},
   "source": [
    "动机：简化运算\n",
    "\n",
    "\n",
    "\n",
    "$$\\hat{y} = arg\\max\\limits_{y}P(x|y)P(y)$$\n",
    "### 对于先验P(y)\n",
    "- 二分类：$y\\sim Bernoulli$\n",
    "- 多分类：$y\\sim Categorial$\n",
    "\n",
    "### 对于似然p(x|y)\n",
    "\n",
    "假设：**条件独立性**（特征在类别确定的情况下是独立的）\n",
    "$$P(x|y)=\\prod_{j=1}^mP(x_j|y)$$\n",
    "- x离散：$x_j\\sim Categorial$\n",
    "- x连续：$x_j \\sim N(\\mu_j,\\sigma^2_j)$"
   ]
  },
  {
   "cell_type": "markdown",
   "metadata": {},
   "source": [
    "## 对Naive Bayes的个人理解"
   ]
  },
  {
   "cell_type": "markdown",
   "metadata": {},
   "source": [
    "- 是一种生成模型，利用贝叶斯公式，实际上学习的是联合分布，通过极大似然估计求解参数，计算后验概率。具有很强的假设：条件独立性（特征在类别确定的情况下是条件独立的）。\n",
    "\n",
    "- P(X,y) =p(x|y)p(y)  = p(x1|y) p(x2|y) p(x3|y) p(y)\n",
    "- 实际上求的参数就是条件概率和先验概率，其中有多少类就有多少个先验概率参数，条件概率参数与类别个数以及每个特征的特征值个数有关。\n",
    "- 在训练集中求得各个参数，新数据来了之后进行“查表”，进行条件概率与先验概率的相乘，求得属于每一类的概率。\n",
    "- 为了防止条件概率参数为0影响最后的结果，进行拉普拉斯平滑，通常做法是在每一类对应的特征的所有水平上加一。\n",
    "- 优点是高效易于实现，缺点是分类性能不高"
   ]
  },
  {
   "cell_type": "markdown",
   "metadata": {},
   "source": [
    "# python实现Naive Bayes"
   ]
  },
  {
   "cell_type": "code",
   "execution_count": 21,
   "metadata": {},
   "outputs": [],
   "source": [
    "import pandas as pd\n",
    "import numpy as np"
   ]
  },
  {
   "cell_type": "code",
   "execution_count": 7,
   "metadata": {},
   "outputs": [],
   "source": [
    "#构建数据集\n",
    "x1 = [1,1,1,1,1,2,2,2,2,2,3,3,3,3,3]\n",
    "x2 = ['S','M','M','S','S','S','M','M','L','L','L','M','M','L','L']\n",
    "y = [-1,-1,1,1,-1,-1,-1,1,1,1,1,1,1,1,-1]\n",
    "\n",
    "df = pd.DataFrame({'x1':x1, 'x2':x2, 'y':y})\n",
    "X = df[['x1','x2']]\n",
    "y = df['y']"
   ]
  },
  {
   "cell_type": "code",
   "execution_count": 27,
   "metadata": {},
   "outputs": [],
   "source": [
    "class NaiveBayes:\n",
    "    def __init__(self):\n",
    "        pass\n",
    "    def fit(self,X,y):\n",
    "        #类先验\n",
    "        self.class_prior = pd.value_counts(y ,normalize=True)\n",
    "        #类别标签\n",
    "        self.class_labels = self.class_prior.index\n",
    "        #条件先验\n",
    "        self.prior = {}\n",
    "        #该过程相当于存表\n",
    "        for l in self.class_labels:\n",
    "            for x in X.columns:\n",
    "                px_given_y = X[x][(y == l).values].value_counts(normalize = True)\n",
    "                for p in px_given_y.index:\n",
    "                    self.prior[(l,x,p)] = px_given_y[p]\n",
    "        return \n",
    "    def predict(self,X):\n",
    "        res = []\n",
    "        for c in self.class_labels:\n",
    "            p_y = self.class_prior[c]\n",
    "            pxy = 1\n",
    "            #查表\n",
    "            for x in X.items():\n",
    "                pxy *= self.prior[tuple([c]+list(x))]\n",
    "            res.append(pxy)\n",
    "        return self.class_labels[np.argmax(res)]"
   ]
  },
  {
   "cell_type": "code",
   "execution_count": 28,
   "metadata": {},
   "outputs": [
    {
     "data": {
      "text/plain": [
       "-1"
      ]
     },
     "execution_count": 28,
     "metadata": {},
     "output_type": "execute_result"
    }
   ],
   "source": [
    "model = NaiveBayes()\n",
    "model.fit(X,y)\n",
    "model.predict({'x1': 2, 'x2': 'S'})"
   ]
  },
  {
   "cell_type": "code",
   "execution_count": null,
   "metadata": {},
   "outputs": [],
   "source": []
  }
 ],
 "metadata": {
  "kernelspec": {
   "display_name": "Python 3",
   "language": "python",
   "name": "python3"
  },
  "language_info": {
   "codemirror_mode": {
    "name": "ipython",
    "version": 3
   },
   "file_extension": ".py",
   "mimetype": "text/x-python",
   "name": "python",
   "nbconvert_exporter": "python",
   "pygments_lexer": "ipython3",
   "version": "3.6.5"
  },
  "toc": {
   "base_numbering": 1,
   "nav_menu": {},
   "number_sections": true,
   "sideBar": true,
   "skip_h1_title": false,
   "title_cell": "Table of Contents",
   "title_sidebar": "Contents",
   "toc_cell": false,
   "toc_position": {},
   "toc_section_display": true,
   "toc_window_display": true
  }
 },
 "nbformat": 4,
 "nbformat_minor": 2
}
