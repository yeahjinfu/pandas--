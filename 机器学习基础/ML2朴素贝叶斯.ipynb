{
 "cells": [
  {
   "cell_type": "markdown",
   "metadata": {},
   "source": [
    "# 理论知识查漏补缺"
   ]
  },
  {
   "cell_type": "markdown",
   "metadata": {},
   "source": [
    "## 判别模型与生成模型"
   ]
  },
  {
   "cell_type": "markdown",
   "metadata": {},
   "source": [
    "- 判别模型：直接对$P(y|x)$建模\n",
    "- 生成模型：判断$P(y=0|x)$和$P(y=1|x)$谁更大一点，借助贝叶斯公式，对$P(x,y)$联合概率进行建模"
   ]
  },
  {
   "cell_type": "markdown",
   "metadata": {},
   "source": [
    "## 高斯判别分析"
   ]
  },
  {
   "cell_type": "markdown",
   "metadata": {},
   "source": [
    "## 朴素贝叶斯"
   ]
  },
  {
   "cell_type": "markdown",
   "metadata": {},
   "source": [
    "动机：简化运算\n",
    "\n",
    "\n",
    "\n",
    "$$\\hat{y} = arg\\max\\limits_{y}P(x|y)P(y)$$\n",
    "### 对于先验P(y)\n",
    "- 二分类：$y\\sim Bernoulli$\n",
    "- 多分类：$y\\sim Categorial$\n",
    "\n",
    "### 对于似然p(x|y)\n",
    "\n",
    "假设：**条件独立性**（特征在类别确定的情况下是独立的）\n",
    "$$P(x|y)=\\prod_{j=1}^mP(x_j|y)$$\n",
    "- x离散：$x_j\\sim Categorial$\n",
    "- x连续：$x_j \\sim N(\\mu_j,\\sigma^2_j)$"
   ]
  },
  {
   "cell_type": "code",
   "execution_count": null,
   "metadata": {},
   "outputs": [],
   "source": []
  }
 ],
 "metadata": {
  "kernelspec": {
   "display_name": "Python 3",
   "language": "python",
   "name": "python3"
  },
  "language_info": {
   "codemirror_mode": {
    "name": "ipython",
    "version": 3
   },
   "file_extension": ".py",
   "mimetype": "text/x-python",
   "name": "python",
   "nbconvert_exporter": "python",
   "pygments_lexer": "ipython3",
   "version": "3.6.5"
  },
  "toc": {
   "base_numbering": 1,
   "nav_menu": {},
   "number_sections": true,
   "sideBar": true,
   "skip_h1_title": false,
   "title_cell": "Table of Contents",
   "title_sidebar": "Contents",
   "toc_cell": false,
   "toc_position": {},
   "toc_section_display": true,
   "toc_window_display": true
  }
 },
 "nbformat": 4,
 "nbformat_minor": 2
}
