{
 "cells": [
  {
   "cell_type": "markdown",
   "metadata": {},
   "source": [
    "# 理论知识查漏补缺"
   ]
  },
  {
   "cell_type": "markdown",
   "metadata": {},
   "source": [
    "## 评价指标之拟合优度$R^2$"
   ]
  },
  {
   "cell_type": "markdown",
   "metadata": {},
   "source": [
    "\\begin{align*}\n",
    "R^2\n",
    "&=1-\\frac{SSE}{SST} \n",
    "=1-\\frac{\\sum\\limits_i{(\\hat{y_i}-y_i)^2}}{\\sum\\limits_i{(y_i-\\bar{y_i})^2}} \\\\\n",
    "&=\\frac{SSR}{SST}\n",
    "=\\frac{\\sum\\limits_i{(\\hat{y_i}-\\bar{y_i}^2)}}{\\sum\\limits_i{(y_i-\\bar{y_i})^2}} \\\\\n",
    "\\end{align*}"
   ]
  },
  {
   "cell_type": "markdown",
   "metadata": {},
   "source": [
    "若没有自变量，在预测$y_i$的时候会用均值$\\bar{y}$代替，那么损失就为SST，也代表y的波动程度；\n",
    "\n",
    "若用自变量来解释y，SSR由X的波动引起，表示可以被自变量解释的部分；而SSE由X之外的未知因素引起，表示不可以被自变量解释的部分。\n",
    "\n",
    "因此**$R^2$表示因变量的波动中能用自变量解释的比例**"
   ]
  },
  {
   "cell_type": "markdown",
   "metadata": {},
   "source": [
    "## 参数求解之牛顿法"
   ]
  },
  {
   "cell_type": "markdown",
   "metadata": {},
   "source": [
    "牛顿法可以用来求解方程，选定一初始点$(x_0,f(x_0))$，过该点以斜率$f'(x_0)$画一条直线，得到它与x轴的交点$x_1$，如此反复迭代下去"
   ]
  },
  {
   "cell_type": "markdown",
   "metadata": {},
   "source": [
    "$$x_1=x_0-\\frac{f(x_0)}{f'(x_0)}$$"
   ]
  },
  {
   "cell_type": "markdown",
   "metadata": {},
   "source": [
    "\n",
    "对于损失函数$l(w)$，我们想取其最小时对应的w，因此只要求解方程$l'(w)=0$即可。\n",
    "\n",
    "**从泰勒展开的角度看牛顿法：**\n",
    "\n",
    "将$l(w)$进行二阶泰勒展开：\n",
    "$$l(w)=l(w_0)+l'(w_0)(w-w_0)+\\frac{1}{2}l''(w_0)(w-w_0)^2$$\n",
    "\n",
    "对上式两边关于w求导：\n",
    "$$l'(w)=l'(w_0)+l''(w_0)(w-w_0)=0$$\n",
    "\n",
    "得\n",
    "$$w\\gets w-\\frac{f'(w)}{f''(w)}$$\n",
    "\n",
    "当w是向量的时候，$f''(w)$的位置就变成了H，也就是$l(w)$的海森矩阵；\n",
    "\n",
    "**牛顿法收敛速度很快，但是海森矩阵计算十分复杂**，当参数维度很大的时候会消耗大量的计算资源，因此可以使用其他矩阵代替海森矩阵，引入拟牛顿法。\n"
   ]
  },
  {
   "cell_type": "markdown",
   "metadata": {},
   "source": [
    "# python实现线性回归参数求解"
   ]
  },
  {
   "cell_type": "code",
   "execution_count": 1,
   "metadata": {},
   "outputs": [],
   "source": [
    "import numpy as np"
   ]
  },
  {
   "cell_type": "markdown",
   "metadata": {},
   "source": [
    "生成数据"
   ]
  },
  {
   "cell_type": "code",
   "execution_count": 3,
   "metadata": {},
   "outputs": [],
   "source": [
    "X = np.random.randn(500,4)\n",
    "trueW = np.array([1,2,3,4])\n",
    "y = X.dot(trueW)"
   ]
  },
  {
   "cell_type": "markdown",
   "metadata": {},
   "source": [
    "训练集测试集划分"
   ]
  },
  {
   "cell_type": "code",
   "execution_count": 9,
   "metadata": {},
   "outputs": [],
   "source": [
    "from sklearn.model_selection import train_test_split"
   ]
  },
  {
   "cell_type": "code",
   "execution_count": 10,
   "metadata": {},
   "outputs": [],
   "source": [
    "X_train,X_test,y_train,y_test = train_test_split(X,y,test_size = 0.2)"
   ]
  },
  {
   "cell_type": "markdown",
   "metadata": {},
   "source": [
    "## 最小二乘法"
   ]
  },
  {
   "cell_type": "markdown",
   "metadata": {},
   "source": [
    "$$Y=XW$$"
   ]
  },
  {
   "cell_type": "markdown",
   "metadata": {},
   "source": [
    "$$LOSS=(XW-Y)^T(XW-Y)$$"
   ]
  },
  {
   "cell_type": "markdown",
   "metadata": {},
   "source": [
    "$LOSS$关于参数W求导得"
   ]
  },
  {
   "cell_type": "markdown",
   "metadata": {},
   "source": [
    "$$W=(X^TX)^{-1}X^TY$$"
   ]
  },
  {
   "cell_type": "code",
   "execution_count": 117,
   "metadata": {},
   "outputs": [],
   "source": [
    "class LR_OLS:\n",
    "    def __init__(self):\n",
    "        pass\n",
    "    def fit(self,X,y):\n",
    "        y = y.reshape(-1,1)\n",
    "        self.w = np.linalg.inv(np.dot(X.T,X)).dot(X.T).dot(y)\n",
    "        print('w_predict:',self.w)\n",
    "    def predict(self,X):\n",
    "        return np.dot(X,self.w)\n",
    "    def score(self,y_hat,y):\n",
    "        y = y.reshape(-1,1)\n",
    "        SSE = sum((y_hat-y)**2)\n",
    "        SST = sum((y-y.mean())**2)\n",
    "        self.r2 = (1 - SSE/SST)[0]\n",
    "        return round(self.r2,2)"
   ]
  },
  {
   "cell_type": "code",
   "execution_count": 118,
   "metadata": {},
   "outputs": [
    {
     "name": "stdout",
     "output_type": "stream",
     "text": [
      "w_predict: [[1.]\n",
      " [2.]\n",
      " [3.]\n",
      " [4.]]\n",
      "score: 1.0\n"
     ]
    }
   ],
   "source": [
    "lrols = LR_OLS()\n",
    "lrols.fit(X_train,y_train)\n",
    "y_pre = lrols.predict(X_test) \n",
    "print('score:',lrols.score(y_pre,y_test))"
   ]
  },
  {
   "cell_type": "markdown",
   "metadata": {},
   "source": [
    "## 梯度下降法"
   ]
  },
  {
   "cell_type": "markdown",
   "metadata": {},
   "source": [
    "$$W\\gets W-\\alpha X^T(\\hat{y}-y)$$\n",
    "\n",
    "迭代终止条件：\n",
    "1. 当迭代次数超过阈值以后，停止迭代\n",
    "2. 当两次迭代的参数变化小于设定的阈值之后停止迭代"
   ]
  },
  {
   "cell_type": "code",
   "execution_count": 114,
   "metadata": {},
   "outputs": [],
   "source": [
    "class LR_GD:\n",
    "    def __init__(self):\n",
    "        pass\n",
    "    def fit(self,X,y,alpha = 0.2, threshold=1e-10):\n",
    "        y = y.reshape(-1,1)\n",
    "        #初始值设置\n",
    "        self.w = np.zeros((X.shape[1],1))\n",
    "        #两次迭代参数的变化值初始设置\n",
    "        w_delta = 10e5\n",
    "        while w_delta > threshold:\n",
    "            #计算梯度\n",
    "            y_hat = X.dot(self.w) \n",
    "            dw = X.T.dot(y_hat - y)/X.shape[0]\n",
    "            #梯度下降\n",
    "            w_new = self.w - alpha * dw\n",
    "            #w变化程度\n",
    "            w_delta = abs(w_new - self.w).sum()\n",
    "            self.w = w_new\n",
    "        print('w_predict:',self.w)       \n",
    "        return             \n",
    "    def predict(self,X):\n",
    "        return np.dot(X,self.w)\n",
    "    def score(self,y_hat,y):\n",
    "        y = y.reshape(-1,1)\n",
    "        SSE = sum((y_hat-y)**2)\n",
    "        SST = sum((y-y.mean())**2)\n",
    "        self.r2 = (1 - SSE/SST)[0]\n",
    "        return round(self.r2,2)\n",
    "        "
   ]
  },
  {
   "cell_type": "code",
   "execution_count": 115,
   "metadata": {},
   "outputs": [
    {
     "name": "stdout",
     "output_type": "stream",
     "text": [
      "w_predict: [[1.]\n",
      " [2.]\n",
      " [3.]\n",
      " [4.]]\n",
      "score: 1.0\n"
     ]
    }
   ],
   "source": [
    "lrgd = LR_GD()\n",
    "lrgd.fit(X_train,y_train)\n",
    "y_pre = lrgd.predict(X_test) \n",
    "print('score:',lrgd.score(y_pre,y_test))"
   ]
  },
  {
   "cell_type": "markdown",
   "metadata": {},
   "source": [
    "## ！！容易踩的坑"
   ]
  },
  {
   "cell_type": "markdown",
   "metadata": {},
   "source": [
    "```python\n",
    "y.reshape(-1,1)\n",
    "```\n",
    "y一定要改变一下维度，不然容易发生以下情况"
   ]
  },
  {
   "cell_type": "code",
   "execution_count": 119,
   "metadata": {},
   "outputs": [
    {
     "data": {
      "text/plain": [
       "(100,)"
      ]
     },
     "execution_count": 119,
     "metadata": {},
     "output_type": "execute_result"
    }
   ],
   "source": [
    "y_ = np.ones(100)\n",
    "y_.shape"
   ]
  },
  {
   "cell_type": "code",
   "execution_count": 121,
   "metadata": {},
   "outputs": [
    {
     "data": {
      "text/plain": [
       "(100, 1)"
      ]
     },
     "execution_count": 121,
     "metadata": {},
     "output_type": "execute_result"
    }
   ],
   "source": [
    "y__ = np.ones((100,1))\n",
    "y__.shape"
   ]
  },
  {
   "cell_type": "code",
   "execution_count": 122,
   "metadata": {},
   "outputs": [
    {
     "data": {
      "text/plain": [
       "(100, 100)"
      ]
     },
     "execution_count": 122,
     "metadata": {},
     "output_type": "execute_result"
    }
   ],
   "source": [
    "(y_-y__).shape"
   ]
  }
 ],
 "metadata": {
  "kernelspec": {
   "display_name": "Python 3",
   "language": "python",
   "name": "python3"
  },
  "language_info": {
   "codemirror_mode": {
    "name": "ipython",
    "version": 3
   },
   "file_extension": ".py",
   "mimetype": "text/x-python",
   "name": "python",
   "nbconvert_exporter": "python",
   "pygments_lexer": "ipython3",
   "version": "3.6.5"
  },
  "toc": {
   "base_numbering": 1,
   "nav_menu": {},
   "number_sections": true,
   "sideBar": true,
   "skip_h1_title": false,
   "title_cell": "Table of Contents",
   "title_sidebar": "Contents",
   "toc_cell": false,
   "toc_position": {},
   "toc_section_display": true,
   "toc_window_display": true
  }
 },
 "nbformat": 4,
 "nbformat_minor": 2
}
